{
 "cells": [
  {
   "cell_type": "code",
   "execution_count": 2,
   "id": "fb719413",
   "metadata": {},
   "outputs": [
    {
     "name": "stdout",
     "output_type": "stream",
     "text": [
      "🔄 开始 Incremental PCA 拟合，总样本数: 33000\n"
     ]
    },
    {
     "name": "stderr",
     "output_type": "stream",
     "text": [
      "📦 拟合 PCA: 100%|██████████| 129/129 [26:03<00:00, 12.12s/it]\n"
     ]
    },
    {
     "name": "stdout",
     "output_type": "stream",
     "text": [
      "✨ PCA 拟合完成，开始 transform 所有数据...\n"
     ]
    },
    {
     "name": "stderr",
     "output_type": "stream",
     "text": [
      "📦 变换数据: 100%|██████████| 129/129 [01:20<00:00,  1.61it/s]"
     ]
    },
    {
     "name": "stdout",
     "output_type": "stream",
     "text": [
      "✅ 降维后数据形状: (33000, 256)\n"
     ]
    },
    {
     "name": "stderr",
     "output_type": "stream",
     "text": [
      "\n"
     ]
    }
   ],
   "source": [
    "from data.dataset import SVMSpectrogramDataset\n",
    "\n",
    "dataset = SVMSpectrogramDataset(\n",
    "    csv_path=\"E:/AMR/DA/Projekt/data/data_list/0408/train_list_high_quality.csv\",\n",
    "    max_samples_per_class=1000,     # 控制每类样本数\n",
    "    pca_components=256,            # 降维目标维度\n",
    "    pca_batch_size=256             # 每次加载多少频谱图\n",
    ")\n",
    "\n",
    "X, y = dataset.get_data()\n",
    "print(\"✅ 降维后数据形状:\", X.shape)\n"
   ]
  },
  {
   "cell_type": "code",
   "execution_count": null,
   "id": "e2e2ee3e",
   "metadata": {},
   "outputs": [],
   "source": [
    "\"E:/AMR/DA/Projekt/data/data_list/0408/train_list_high_quality.csv\""
   ]
  },
  {
   "cell_type": "code",
   "execution_count": null,
   "id": "08febf50",
   "metadata": {},
   "outputs": [],
   "source": []
  }
 ],
 "metadata": {
  "kernelspec": {
   "display_name": "trainenv",
   "language": "python",
   "name": "python3"
  },
  "language_info": {
   "codemirror_mode": {
    "name": "ipython",
    "version": 3
   },
   "file_extension": ".py",
   "mimetype": "text/x-python",
   "name": "python",
   "nbconvert_exporter": "python",
   "pygments_lexer": "ipython3",
   "version": "3.10.16"
  }
 },
 "nbformat": 4,
 "nbformat_minor": 5
}
